{
  "nbformat": 4,
  "nbformat_minor": 0,
  "metadata": {
    "colab": {
      "provenance": [],
      "authorship_tag": "ABX9TyNFQfIsZwe7aiOY1Kz2GxzD",
      "include_colab_link": true
    },
    "kernelspec": {
      "name": "python3",
      "display_name": "Python 3"
    },
    "language_info": {
      "name": "python"
    }
  },
  "cells": [
    {
      "cell_type": "markdown",
      "metadata": {
        "id": "view-in-github",
        "colab_type": "text"
      },
      "source": [
        "<a href=\"https://colab.research.google.com/github/oceanensley14/Age-Guesser/blob/main/test.ipynb\" target=\"_parent\"><img src=\"https://colab.research.google.com/assets/colab-badge.svg\" alt=\"Open In Colab\"/></a>"
      ]
    },
    {
      "cell_type": "code",
      "source": [
        "down = 0\n",
        "up = 100\n",
        "for i in range(1,10):\n",
        "    age_guess = int((up+down)/2)\n",
        "    answer = input ('Are you' + str(age_guess) + \"years old\")\n",
        "    if answer == 'correct':\n",
        "      print(\"Sweet\")\n",
        "      break\n",
        "    elif answer == 'younger':\n",
        "      up = age_guess\n",
        "    elif answer == 'older':\n",
        "      down = age_guess\n",
        "    else:\n",
        "      print(\"incorrect\")"
      ],
      "metadata": {
        "id": "_96txW0exExq",
        "colab": {
          "base_uri": "https://localhost:8080/"
        },
        "outputId": "3e504528-631f-4769-cb90-fb4490b1e117"
      },
      "execution_count": 2,
      "outputs": [
        {
          "output_type": "stream",
          "name": "stdout",
          "text": [
            "Are you50years oldyounger\n",
            "Are you25years oldolder\n",
            "Are you37years oldyounger\n",
            "Are you31years oldolder\n",
            "Are you34years oldolder\n",
            "Are you35years oldolder\n",
            "Are you36years oldcorrect\n",
            "Sweet\n"
          ]
        }
      ]
    },
    {
      "cell_type": "code",
      "source": [],
      "metadata": {
        "id": "TSwnY8fK-OxL"
      },
      "execution_count": null,
      "outputs": []
    }
  ]
}